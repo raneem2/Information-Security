{
 "cells": [
  {
   "cell_type": "markdown",
   "id": "78c2c9a3",
   "metadata": {},
   "source": [
    "## Teammates:\n",
    "    Name: Raneem Ahmed\n",
    "    ID: 49-9975\n",
    "    Tutorial_Number: T04\n",
    "    \n",
    "    Name: Jasmine Yasser\n",
    "    ID: 49-5873\n",
    "    Tutorial_Number: T02\n",
    "    \n",
    "#### ---- We submitted the assignment twice and this is the Most Recent Version :)"
   ]
  },
  {
   "cell_type": "markdown",
   "id": "c89d7db3",
   "metadata": {},
   "source": [
    "## Import the needed libraries"
   ]
  },
  {
   "cell_type": "code",
   "execution_count": 1,
   "id": "26a1d00c",
   "metadata": {},
   "outputs": [],
   "source": [
    "from Crypto.Cipher import PKCS1_OAEP\n",
    "from Crypto.PublicKey import RSA\n",
    "import secrets\n",
    "import random\n",
    "from random import randint\n",
    "from hashlib import sha512\n",
    "import hashlib"
   ]
  },
  {
   "cell_type": "markdown",
   "id": "a38000ac",
   "metadata": {},
   "source": [
    "# 1) TLS Simulation using RSA "
   ]
  },
  {
   "cell_type": "markdown",
   "id": "c385a651",
   "metadata": {},
   "source": [
    "# Step 1\n",
    "Client sends the server a 32 byte nonce along with a flag"
   ]
  },
  {
   "cell_type": "code",
   "execution_count": 2,
   "id": "578ba93a",
   "metadata": {},
   "outputs": [
    {
     "data": {
      "text/plain": [
       "1"
      ]
     },
     "execution_count": 2,
     "metadata": {},
     "output_type": "execute_result"
    }
   ],
   "source": [
    "#Generate Flag--> flag=1 use RSA, flag=0 use DiffieHellman\n",
    "def randomFlag():\n",
    "    flag= random.choice(range(0, 2))\n",
    "    return flag\n",
    "randomFlag()"
   ]
  },
  {
   "cell_type": "code",
   "execution_count": 3,
   "id": "676a02bc",
   "metadata": {},
   "outputs": [
    {
     "data": {
      "text/plain": [
       "b'G\\xa7m\\x82\\x9c\\xb7_@[\\xebM\\x7f\\x93\\x04D\\t%\\xc6\\xf6J\\xf2\\xf8\\xd8/+\\\\3\\x8d3\\xe7\\xb1`'"
      ]
     },
     "execution_count": 3,
     "metadata": {},
     "output_type": "execute_result"
    }
   ],
   "source": [
    "#Generate client nonce -->Rb\n",
    "def clientRb():\n",
    "    client_nonce= bytes([random.randrange(0, 256) for _ in range(0, 32)])\n",
    "    client_nonce= secrets.token_bytes()\n",
    "    return client_nonce\n",
    "client_nonce= clientRb()\n",
    "client_nonce"
   ]
  },
  {
   "cell_type": "code",
   "execution_count": 4,
   "id": "80dc62a5",
   "metadata": {},
   "outputs": [
    {
     "data": {
      "text/plain": [
       "32"
      ]
     },
     "execution_count": 4,
     "metadata": {},
     "output_type": "execute_result"
    }
   ],
   "source": [
    "#Generate length of client nonce\n",
    "len(client_nonce)"
   ]
  },
  {
   "cell_type": "markdown",
   "id": "b254f7ec",
   "metadata": {},
   "source": [
    "# Step 2\n",
    "Server sends the client a 32 byte nonce along with a flag"
   ]
  },
  {
   "cell_type": "code",
   "execution_count": 5,
   "id": "c028119f",
   "metadata": {},
   "outputs": [
    {
     "data": {
      "text/plain": [
       "b'e\\x99\\x98\\xe3\\x99#q\\x1b:\\xaf\\x1bU7\\x9f\\xee\\xf9\\xd1\\xd6c&\\xc2\\x00\\xd8t\\xcf\\xa2\\xa1M\\x9d\\xe4\\x8cR'"
      ]
     },
     "execution_count": 5,
     "metadata": {},
     "output_type": "execute_result"
    }
   ],
   "source": [
    "#Generate server nonce --> Rs\n",
    "def serverRs():\n",
    "    server_nonce= bytes([random.randrange(0, 256) for _ in range(0, 32)])\n",
    "    server_nonce= secrets.token_bytes()\n",
    "    return server_nonce\n",
    "server_nonce= serverRs()\n",
    "server_nonce"
   ]
  },
  {
   "cell_type": "code",
   "execution_count": 6,
   "id": "620b7fa4",
   "metadata": {},
   "outputs": [
    {
     "data": {
      "text/plain": [
       "32"
      ]
     },
     "execution_count": 6,
     "metadata": {},
     "output_type": "execute_result"
    }
   ],
   "source": [
    "#Generate length of server nonce\n",
    "len(server_nonce)"
   ]
  },
  {
   "cell_type": "markdown",
   "id": "2a281945",
   "metadata": {},
   "source": [
    "# Step 3\n",
    "Server randomly generates a pair of RSA public/private keys and sends to the client {public key, hash(public key)} as a certificate "
   ]
  },
  {
   "cell_type": "code",
   "execution_count": 7,
   "id": "4b5bd806",
   "metadata": {},
   "outputs": [],
   "source": [
    "rand= RSA.generate(2048)\n",
    "PR= rand.exportKey(\"PEM\")\n",
    "PU= rand.publickey().exportKey(\"PEM\")\n",
    "fd= open(\"PR.pem\", \"wb\")\n",
    "fd.write(PR)\n",
    "fd.close()\n",
    "fd= open(\"PU.pem\", \"wb\")\n",
    "fd.write(PR)\n",
    "fd.close()"
   ]
  },
  {
   "cell_type": "code",
   "execution_count": 8,
   "id": "575cd9f3",
   "metadata": {},
   "outputs": [
    {
     "data": {
      "text/plain": [
       "b'-----BEGIN PUBLIC KEY-----\\nMIIBIjANBgkqhkiG9w0BAQEFAAOCAQ8AMIIBCgKCAQEAmgmd0oB6C3J8R6max+5W\\nTNjAa2DJjQyyBYUbhyb1unSrB/OuQTg+K7ggn5WWrz9nZ9uIg+Lk0TT93DOvxUvR\\nXSSI4qYdu15u8p7BIznRUdXXD6cFLV5nwBRviuIrdBM+YG/EazdSGrF02R4SxNSx\\nioXgMUsisVjIR56L80gI8y1NjLGJxXRMGAnsxzexY0absQKU2jdYJBd36DTxsYMN\\nSd9/g0NqUUhjIGKJj1PCKWt3ygHx9n7LPb6rB9AIRj/82uvv9CDbah3EIZmw7mCi\\nzIHWdjrcfKtCvRWBl3eJKwNi/C93f0HAbPozJEXTGbfC58SNf7ph7OlMrI1JUOs0\\noQIDAQAB\\n-----END PUBLIC KEY-----'"
      ]
     },
     "execution_count": 8,
     "metadata": {},
     "output_type": "execute_result"
    }
   ],
   "source": [
    "PU"
   ]
  },
  {
   "cell_type": "code",
   "execution_count": 9,
   "id": "a9a211ac",
   "metadata": {},
   "outputs": [
    {
     "data": {
      "text/plain": [
       "bytes"
      ]
     },
     "execution_count": 9,
     "metadata": {},
     "output_type": "execute_result"
    }
   ],
   "source": [
    "type(PU)"
   ]
  },
  {
   "cell_type": "code",
   "execution_count": 10,
   "id": "b3a4105f",
   "metadata": {},
   "outputs": [],
   "source": [
    "#Generate server PU Hash\n",
    "def hashFunction(message):\n",
    "    hash= int.from_bytes(sha512(message).digest(), byteorder= 'big')\n",
    "    return(hex(hash))"
   ]
  },
  {
   "cell_type": "code",
   "execution_count": 11,
   "id": "b14723b3",
   "metadata": {},
   "outputs": [
    {
     "data": {
      "text/plain": [
       "'0x7c1da08ac96d6a08070ac1f464946802f77ae441fd756ab788bb46210ae4bbdae808bd4362fc8af0e41015fb281233730ba817172801780d4de1d91541ff695f'"
      ]
     },
     "execution_count": 11,
     "metadata": {},
     "output_type": "execute_result"
    }
   ],
   "source": [
    "server_PUhash= hashFunction(PU)\n",
    "server_PUhash"
   ]
  },
  {
   "cell_type": "markdown",
   "id": "64f7565f",
   "metadata": {},
   "source": [
    "# Step 4"
   ]
  },
  {
   "cell_type": "code",
   "execution_count": 12,
   "id": "8ade9d3a",
   "metadata": {},
   "outputs": [
    {
     "data": {
      "text/plain": [
       "'Matching'"
      ]
     },
     "execution_count": 12,
     "metadata": {},
     "output_type": "execute_result"
    }
   ],
   "source": [
    "#Client rehashes server's PU and compares both hashes\n",
    "hashTester= hashFunction(PU)\n",
    "if(hashTester== server_PUhash):\n",
    "    z= 'Matching'\n",
    "else:\n",
    "    z= 'Not Matching'\n",
    "z"
   ]
  },
  {
   "cell_type": "markdown",
   "id": "d31b0944",
   "metadata": {},
   "source": [
    "# Step 5\n",
    "Client exchanges the pre-master secret (PS)"
   ]
  },
  {
   "cell_type": "code",
   "execution_count": 13,
   "id": "baad152b",
   "metadata": {},
   "outputs": [
    {
     "data": {
      "text/plain": [
       "b'\\xfb_G\\xcc\\xe6\\x1cy\\x04\\x1f\\x84Xz\\x14\\xd8]\\xf7uX-{\\xa6\\xc0\\x96\\x9e*Y\\xfd_N\\x86\\xbb\\xd3'"
      ]
     },
     "execution_count": 13,
     "metadata": {},
     "output_type": "execute_result"
    }
   ],
   "source": [
    "#Generate Premaster Secret\n",
    "PS= secrets.token_bytes()\n",
    "PS"
   ]
  },
  {
   "cell_type": "code",
   "execution_count": 14,
   "id": "60b3eb10",
   "metadata": {},
   "outputs": [
    {
     "name": "stdout",
     "output_type": "stream",
     "text": [
      "Premaster Secret:  b'\\xfb_G\\xcc\\xe6\\x1cy\\x04\\x1f\\x84Xz\\x14\\xd8]\\xf7uX-{\\xa6\\xc0\\x96\\x9e*Y\\xfd_N\\x86\\xbb\\xd3' \n",
      "\n",
      "Encrypted PS:  b'K\\xc7\\xda\\xbdXe\\x89\\xb0\\x17\\xcd\\x1a\\xa18E>\\xef\\xcf(Iw\\xeb\\x95\\xa7\\xc3am\\xf8\\xf5\\xad[\\xee6\\xe0\\xe9\\xd0\\x05_\\xe9\\x9c\\xc68\\n\\xb6?\\x0cQ\\x13_\\x1e6\\xf2TI$1in/\\xb6Av\\x9c\\xc7\\xfc\\x0fM\\x18\\x9em\\xd5\\xc1S\\xd3\\xe7\\x86\\x7f\\x1d\\xfc\\x934\\x90\\xf9\\x1a\\xba\\xfd\\xb5Er\\xa7\\x8e?\\xcda.=\\x00\\xb0:\\xfd\\x1d\\x02R\\x84\\xdd\\x06\\xa7\\xd0\\x8a\\x8b\\xc7d\\xa7\\xa0\\x84}\\xd8\\x8c\\x89Z?\\x9c\\xbd\\xa7\\x1c\\xe9\\xb4\\x98\\x138/\\xb5\\x9e\\xce\\xd9B\\xe8Y8\\xc7\\x0f\\t\\x82>%\\xb2\\xc0}\\x8b*<\\xf2\\x9e\\xce\\xb1R\\xf2\\xfbJ\\xe6\\x87L{2\\xb8JU@5\\x91L\\xca\\xed\\x1e\\xdf\\x12d\\xa36\\xe8\\r\\xd6\\xa1A\\x89\\xdd,\\xa1\\xe4\\xc94\\x04\\xeb\\xd76p\\xfe\\xc3nyP\\xda\\xc6\\xea-\\x96\\xc3\\x1eg\\x9e\\x89\\xf6\\x91\\x8a\\xc2\\xa7\\x10Q\\xe6xF?\\xaf\\x0c\\xb9\\x84\\xec-\\xd6Xq\\xfc\\x0f\\xefg\\xeezT\\x87\\xa8;YCc\\xfe\\x96~\\x08\\xbb#n\\x976r\\xb2g\\xca'\n"
     ]
    }
   ],
   "source": [
    "#Encrypt PS using server's PU key\n",
    "print('Premaster Secret: ' , PS, \"\\n\")\n",
    "key= RSA.import_key(open('PU.pem').read())\n",
    "PU= PKCS1_OAEP.new(key)\n",
    "ciphertext= PU.encrypt(PS)\n",
    "print('Encrypted PS: ', ciphertext)"
   ]
  },
  {
   "cell_type": "code",
   "execution_count": 15,
   "id": "69e50d35",
   "metadata": {},
   "outputs": [
    {
     "name": "stdout",
     "output_type": "stream",
     "text": [
      "Decrypted:  b'\\xfb_G\\xcc\\xe6\\x1cy\\x04\\x1f\\x84Xz\\x14\\xd8]\\xf7uX-{\\xa6\\xc0\\x96\\x9e*Y\\xfd_N\\x86\\xbb\\xd3'\n"
     ]
    }
   ],
   "source": [
    "#Server decrypts using its PR key\n",
    "key= RSA.import_key(open('PR.pem').read())\n",
    "cipher= PKCS1_OAEP.new(key)\n",
    "plaintext= cipher.decrypt(ciphertext)\n",
    "print('Decrypted: ', plaintext)"
   ]
  },
  {
   "cell_type": "markdown",
   "id": "689481a1",
   "metadata": {},
   "source": [
    "# Step 6\n",
    "Pseudorandom number generation"
   ]
  },
  {
   "cell_type": "code",
   "execution_count": 16,
   "id": "d062c689",
   "metadata": {},
   "outputs": [
    {
     "name": "stdout",
     "output_type": "stream",
     "text": [
      "b'Xz\\x14\\xd8]\\xf7u' \n",
      "\n",
      "b'M\\x7f\\x93\\x04D\\t%' \n",
      "\n",
      "b'\\x1bU7\\x9f\\xee\\xf9\\xd1'\n"
     ]
    }
   ],
   "source": [
    "#Generate a subset of the generated random numbers\n",
    "Rb= client_nonce\n",
    "Rs= server_nonce\n",
    "PS_subset= PS[10:17]\n",
    "Rb_subset= Rb[10:17]\n",
    "Rs_subset= Rs[10:17]\n",
    "print(PS_subset, \"\\n\")\n",
    "print(Rb_subset, \"\\n\")\n",
    "print(Rs_subset)"
   ]
  },
  {
   "cell_type": "code",
   "execution_count": 17,
   "id": "a70bd4d5",
   "metadata": {},
   "outputs": [
    {
     "name": "stdout",
     "output_type": "stream",
     "text": [
      "587a14d85df775 \n",
      "\n",
      "4d7f9304440925 \n",
      "\n",
      "1b55379feef9d1\n"
     ]
    }
   ],
   "source": [
    "#Convert bytes to string\n",
    "PS_string= ''.join(format(x, '02x') for x in PS_subset)\n",
    "Rb_string= ''.join(format(x, '02x') for x in Rb_subset)\n",
    "Rs_string= ''.join(format(x, '02x') for x in Rs_subset)\n",
    "print(PS_string, \"\\n\")\n",
    "print(Rb_string, \"\\n\")\n",
    "print(Rs_string)"
   ]
  },
  {
   "cell_type": "code",
   "execution_count": 18,
   "id": "3afd8d01",
   "metadata": {},
   "outputs": [
    {
     "name": "stdout",
     "output_type": "stream",
     "text": [
      "24904027898509173 \n",
      "\n",
      "21813842615208229 \n",
      "\n",
      "7693521765988817\n"
     ]
    }
   ],
   "source": [
    "#Convert string to int for pseudorandom number generator to be able to run properly\n",
    "PS_int= int(PS_string, 16)\n",
    "Rb_int= int(Rb_string, 16)\n",
    "Rs_int= int(Rs_string, 16)\n",
    "print(PS_int, \"\\n\")\n",
    "print(Rb_int, \"\\n\")\n",
    "print(Rs_int)"
   ]
  },
  {
   "cell_type": "code",
   "execution_count": 19,
   "id": "0a007dc0",
   "metadata": {},
   "outputs": [
    {
     "data": {
      "text/plain": [
       "54411392279706219"
      ]
     },
     "execution_count": 19,
     "metadata": {},
     "output_type": "execute_result"
    }
   ],
   "source": [
    "#Pseudorandom number range\n",
    "num_range= int(PS_string, 16)+ int(Rb_string, 16)+ int(Rs_string, 16)\n",
    "num_range"
   ]
  },
  {
   "cell_type": "code",
   "execution_count": 20,
   "id": "815b0f49",
   "metadata": {},
   "outputs": [
    {
     "name": "stdout",
     "output_type": "stream",
     "text": [
      "CC:  21904689730313800 \n",
      "\n",
      "IC:  10373079750944994 \n",
      "\n",
      "CS:  1362028907090671 \n",
      "\n",
      "IS:  49858509829782056\n"
     ]
    }
   ],
   "source": [
    "#Generate the 4 communication keys\n",
    "communication_keys= random.choices(range(num_range), k= 4)\n",
    "CC= communication_keys[0]\n",
    "IC= communication_keys[1]\n",
    "CS= communication_keys[2]\n",
    "IS= communication_keys[3]\n",
    "print('CC: ', CC, \"\\n\")\n",
    "print('IC: ', IC, \"\\n\")\n",
    "print('CS: ', CS, \"\\n\")\n",
    "print('IS: ', IS)"
   ]
  },
  {
   "cell_type": "code",
   "execution_count": 21,
   "id": "8c3c28b1",
   "metadata": {},
   "outputs": [
    {
     "name": "stdout",
     "output_type": "stream",
     "text": [
      "CC:  b'21904689730313800' \n",
      "\n",
      "IC:  b'10373079750944994' \n",
      "\n",
      "CS:  b'1362028907090671' \n",
      "\n",
      "IS:  b'49858509829782056'\n"
     ]
    }
   ],
   "source": [
    "#Encode the 4 keys into bytes\n",
    "CC_bytes= str(CC).encode()\n",
    "IC_bytes= str(IC).encode()\n",
    "CS_bytes= str(CS).encode()\n",
    "IS_bytes= str(IS).encode()\n",
    "print('CC: ', CC_bytes, \"\\n\")\n",
    "print('IC: ', IC_bytes, \"\\n\")\n",
    "print('CS: ', CS_bytes, \"\\n\")\n",
    "print('IS: ', IS_bytes)"
   ]
  },
  {
   "cell_type": "markdown",
   "id": "21a3d1f1",
   "metadata": {},
   "source": [
    "# Step 7 \n",
    "Each side will verify the values they received and print either a success or failure message"
   ]
  },
  {
   "cell_type": "code",
   "execution_count": 22,
   "id": "cbe79062",
   "metadata": {},
   "outputs": [
    {
     "data": {
      "text/plain": [
       "'100c8238ad7712844a182a4ff75fa1445edfb5fd63274daf536071e72a806b02'"
      ]
     },
     "execution_count": 22,
     "metadata": {},
     "output_type": "execute_result"
    }
   ],
   "source": [
    "#Generate client side hash\n",
    "x= hashlib.sha256()\n",
    "x.update(PS_subset)\n",
    "x.update(Rb_subset)\n",
    "x.update(Rs_subset)\n",
    "x.update(CC_bytes)\n",
    "x.update(IC_bytes)\n",
    "x.digest()\n",
    "client_hash= x.hexdigest()\n",
    "client_hash"
   ]
  },
  {
   "cell_type": "code",
   "execution_count": 23,
   "id": "f7d887a6",
   "metadata": {},
   "outputs": [
    {
     "data": {
      "text/plain": [
       "'Matching'"
      ]
     },
     "execution_count": 23,
     "metadata": {},
     "output_type": "execute_result"
    }
   ],
   "source": [
    "#Server rehashes same values as client\n",
    "xx= hashlib.sha256()\n",
    "xx.update(PS_subset)\n",
    "xx.update(Rb_subset)\n",
    "xx.update(Rs_subset)\n",
    "xx.update(CC_bytes)\n",
    "xx.update(IC_bytes)\n",
    "xx.digest()\n",
    "compare= xx.hexdigest()\n",
    "#compare rehashed values with the client's hash\n",
    "if client_hash== compare:\n",
    "    z= 'Matching'\n",
    "else:\n",
    "    z= 'Not Matching'\n",
    "z"
   ]
  },
  {
   "cell_type": "code",
   "execution_count": 24,
   "id": "43f046b1",
   "metadata": {},
   "outputs": [
    {
     "data": {
      "text/plain": [
       "'100c8238ad7712844a182a4ff75fa1445edfb5fd63274daf536071e72a806b02'"
      ]
     },
     "execution_count": 24,
     "metadata": {},
     "output_type": "execute_result"
    }
   ],
   "source": [
    "#Generate server side hash\n",
    "s= hashlib.sha256()\n",
    "s.update(PS_subset)\n",
    "s.update(Rb_subset)\n",
    "s.update(Rs_subset)\n",
    "s.update(CS_bytes)\n",
    "s.update(IS_bytes)\n",
    "s.digest()\n",
    "server_hash= x.hexdigest()\n",
    "server_hash"
   ]
  },
  {
   "cell_type": "code",
   "execution_count": 25,
   "id": "92a866b2",
   "metadata": {},
   "outputs": [
    {
     "data": {
      "text/plain": [
       "'Matching'"
      ]
     },
     "execution_count": 25,
     "metadata": {},
     "output_type": "execute_result"
    }
   ],
   "source": [
    "#Client rehashes same values as server\n",
    "ss= hashlib.sha256()\n",
    "ss.update(PS_subset)\n",
    "ss.update(Rb_subset)\n",
    "ss.update(Rs_subset)\n",
    "ss.update(CC_bytes)\n",
    "ss.update(IC_bytes)\n",
    "ss.digest()\n",
    "compare= ss.hexdigest()\n",
    "#compare rehashed values with the server's hash\n",
    "if client_hash== compare:\n",
    "    z= 'Matching'\n",
    "else:\n",
    "    z= 'Not Matching'\n",
    "z"
   ]
  },
  {
   "cell_type": "markdown",
   "id": "bc9b9741",
   "metadata": {},
   "source": [
    "# 2) TLS Simulation using Diffie Hellman"
   ]
  },
  {
   "cell_type": "markdown",
   "id": "d6585347",
   "metadata": {},
   "source": [
    "# Step 5\n",
    "The rest of the steps are the same. "
   ]
  },
  {
   "cell_type": "code",
   "execution_count": 26,
   "id": "ef1adb1c",
   "metadata": {},
   "outputs": [
    {
     "name": "stdout",
     "output_type": "stream",
     "text": [
      "Agreed upon Prime Number is: 71\n",
      "Primitive root of Prime number is: 7 \n",
      "\n",
      "The Private Key of Alice is: 2\n",
      "The Private Key of Bob is: 5 \n",
      "\n",
      "Shared key of Alice is: 45\n",
      "Shared key of Bob is: 45\n"
     ]
    }
   ],
   "source": [
    "#a and P are chosen \n",
    "if __name__ == '__main__':\n",
    "    P= 71\n",
    "    a= 7\n",
    "    print('Agreed upon Prime Number is: %d'%(P))\n",
    "    print('Primitive root of Prime number is: %d'%(a), \"\\n\")\n",
    "     \n",
    "    #Alice will choose the private key a\n",
    "    PRa= 2\n",
    "    print('The Private Key of Alice is: %d'%(PRa))\n",
    "     \n",
    "    #gets the generated key\n",
    "    x= int(pow(a,PRa,P)) \n",
    "     \n",
    "    #Bob will choose the private key b\n",
    "    PRb= 5\n",
    "    print('The Private Key of Bob is: %d'%(PRb), \"\\n\")\n",
    "    \n",
    "    #gets the generated key\n",
    "    y= int(pow(a,PRb,P)) \n",
    "     \n",
    "    #Premaster secret key for Alice\n",
    "    Ska= int(pow(y,PRa,P))\n",
    "     \n",
    "    #Premaster secret key for Bob\n",
    "    Skb= int(pow(x,PRb,P))\n",
    "     \n",
    "    print('Shared key of Alice is: %d'%(Ska))\n",
    "    print('Shared key of Bob is: %d'%(Skb))"
   ]
  }
 ],
 "metadata": {
  "kernelspec": {
   "display_name": "Python 3 (ipykernel)",
   "language": "python",
   "name": "python3"
  },
  "language_info": {
   "codemirror_mode": {
    "name": "ipython",
    "version": 3
   },
   "file_extension": ".py",
   "mimetype": "text/x-python",
   "name": "python",
   "nbconvert_exporter": "python",
   "pygments_lexer": "ipython3",
   "version": "3.9.13"
  }
 },
 "nbformat": 4,
 "nbformat_minor": 5
}
