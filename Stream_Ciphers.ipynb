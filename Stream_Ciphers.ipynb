{
  "cells": [
    {
      "cell_type": "markdown",
      "metadata": {
        "id": "k0Q3SH7C3rm3"
      },
      "source": [
        "# Table of contents:\n",
        "\n",
        "* [Stream Ciphers](#streamciphers)\n",
        "* [ChaCha20 Stream Cipher](#chacha20)\n",
        "* [Length of ciphertext in stream cipher](#len)\n",
        "\n",
        "\n",
        "Author: [Sebastià Agramunt Puig](https://github.com/sebastiaagramunt) for [OpenMined](https://www.openmined.org/) Privacy ML Series course."
      ]
    },
    {
      "cell_type": "markdown",
      "metadata": {
        "id": "7mHAJp7o3rm6"
      },
      "source": [
        "# Stream ciphers <a class=\"anchor\" id=\"streamciphers\"></a>\n",
        "\n",
        "So far, the cipher we coded pads bit by bit or, equivalently byte by byte, this is what we know as **stream cipher** because we generate a stream of bytes to pad the message. Of course our homemade implementation is not the perfect one. Hopefully we have the ```cryptography``` package!.\n"
      ]
    },
    {
      "cell_type": "markdown",
      "metadata": {
        "id": "Qp00_PHR3rm7"
      },
      "source": [
        "<img src=\"img/stream_cipher.png\" style=\"width:900px\"/>"
      ]
    },
    {
      "cell_type": "markdown",
      "metadata": {
        "id": "odnLc1IN3rm7"
      },
      "source": [
        "# The ChaCha20 Stream Cipher <a class=\"anchor\" id=\"chacha20\"></a>\n",
        "\n",
        "The ciphertext has the same lenght as the plaintext, if we add one more bit to the plaintext that would result in one more bit in the plaintext. Let's use a stream cipher called [ChaCha20](https://tools.ietf.org/html/draft-strombergson-chacha-test-vectors-00), you can find a python [implementation](https://asecuritysite.com/encryption/chacha) and the original [paper](https://cr.yp.to/chacha/chacha-20080120.pdf)."
      ]
    },
    {
      "cell_type": "markdown",
      "metadata": {
        "id": "JTxwx-IR3rm8"
      },
      "source": [
        "# Length of the ciphertext in stream ciphers <a class=\"anchor\" id=\"len\"></a>\n",
        "\n",
        "The lenght of the ciphertext is the same as the lenght of the plaintext in stream ciphers. In the next example we create a message of all characters \"a\" and encrypt with ChaCha20 cipher:"
      ]
    },
    {
      "cell_type": "markdown",
      "metadata": {
        "id": "alA9Tgle3rm9"
      },
      "source": [
        "Since in stream ciphers (in general) we are XORing byte by byte using the original message and a pseudorandomly generated stream of bytes, the length of the message is the same as the length of the ciphertext."
      ]
    },
    {
      "cell_type": "code",
      "execution_count": 1,
      "metadata": {
        "id": "f9F5t0j33rm-",
        "colab": {
          "base_uri": "https://localhost:8080/"
        },
        "outputId": "6badf429-2454-4e44-8d01-a18e7cae57f9"
      },
      "outputs": [
        {
          "output_type": "stream",
          "name": "stdout",
          "text": [
            "Looking in indexes: https://pypi.org/simple, https://us-python.pkg.dev/colab-wheels/public/simple/\n",
            "Requirement already satisfied: pycryptodome in /usr/local/lib/python3.7/dist-packages (3.15.0)\n",
            "Plaintext: b'Attack at 0700'  Nonce: fMk4hPPlr98=  Ciphered text: s6A4cZx94XSmoVfuqD4=\n"
          ]
        }
      ],
      "source": [
        "#Installing and importing required libraries\n",
        "!pip install pycryptodome\n",
        "from base64 import b64encode\n",
        "from Crypto.Cipher import ChaCha20\n",
        "from Crypto.Random import get_random_bytes\n",
        "\n",
        "\n",
        "#First example\n",
        "plaintext_to_be_encrypted = b'Attack at 0700'\n",
        "secretKey = get_random_bytes(32)\n",
        "\n",
        "cipher = ChaCha20.new(key=secretKey)\n",
        "Text_After_Encryption= cipher.encrypt(plaintext_to_be_encrypted)\n",
        "\n",
        "nonce = b64encode(cipher.nonce).decode('utf-8')\n",
        "ct = b64encode(Text_After_Encryption).decode('utf-8')\n",
        "\n",
        "print('Plaintext:',plaintext_to_be_encrypted, ' Nonce:',nonce, ' Ciphered text:',ct)"
      ]
    },
    {
      "cell_type": "code",
      "execution_count": 2,
      "metadata": {
        "id": "XO-twFsA3rm_",
        "colab": {
          "base_uri": "https://localhost:8080/"
        },
        "outputId": "3ec84cc6-141b-4385-8d44-ab831595e8de"
      },
      "outputs": [
        {
          "output_type": "stream",
          "name": "stdout",
          "text": [
            "Plaintext: b'Mission failed , retreat and defend the camp'  Nonce: p6hiF0RJ1Vs=  Ciphered text: ghdyyN9sC3qPDvffAUj465uKhNLbuOayvZayCOCQaxwMMWjDROBXfwIwPzQ=\n"
          ]
        }
      ],
      "source": [
        "#Second example , just to make sure everything is working correctly\n",
        "plaintext_to_be_encrypted = b'Mission failed , retreat and defend the camp'\n",
        "secretKey = get_random_bytes(32)\n",
        "\n",
        "cipher = ChaCha20.new(key=secretKey)\n",
        "Text_After_Encryption= cipher.encrypt(plaintext_to_be_encrypted)\n",
        "\n",
        "nonce = b64encode(cipher.nonce).decode('utf-8')\n",
        "ct = b64encode(Text_After_Encryption).decode('utf-8')\n",
        "\n",
        "print('Plaintext:',plaintext_to_be_encrypted, ' Nonce:',nonce, ' Ciphered text:',ct)"
      ]
    }
  ],
  "metadata": {
    "kernelspec": {
      "display_name": "Python 3 (ipykernel)",
      "language": "python",
      "name": "python3"
    },
    "language_info": {
      "codemirror_mode": {
        "name": "ipython",
        "version": 3
      },
      "file_extension": ".py",
      "mimetype": "text/x-python",
      "name": "python",
      "nbconvert_exporter": "python",
      "pygments_lexer": "ipython3",
      "version": "3.9.13"
    },
    "colab": {
      "provenance": []
    }
  },
  "nbformat": 4,
  "nbformat_minor": 0
}