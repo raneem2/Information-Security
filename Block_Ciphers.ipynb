{
  "cells": [
    {
      "cell_type": "markdown",
      "id": "strategic-sponsorship",
      "metadata": {
        "id": "strategic-sponsorship"
      },
      "source": [
        "# Table of contents:\n",
        "\n",
        "* [Introduction to block ciphers](#intro-block)\n",
        "* [Padding a message](#message-padding)\n",
        "* [The Advanced Encryption Standard (AES)](#AES)\n",
        "* [Modes of operation of block ciphers](#modes)\n",
        "* [Size of the output ciphertex on AES](#size)\n",
        "* [Bonus: Fernet cipher](#fernet)\n",
        "    \n",
        "Author: [Sebastià Agramunt Puig](https://github.com/sebastiaagramunt) for [OpenMined](https://www.openmined.org/) Privacy ML Series course.\n",
        "\n"
      ]
    },
    {
      "cell_type": "markdown",
      "id": "informal-yesterday",
      "metadata": {
        "id": "informal-yesterday"
      },
      "source": [
        "## Block Ciphers <a class=\"anchor\" id=\"intro-block\"></a>\n",
        "\n",
        "Block ciphers as opposed to stream ciphers take a block of the plaintext (a specific amount of bytes) and encrypts it into a block with the same size. In this section we will use the Advanced Encryption Standard (AES) to understand block ciphers. In the next schema it is shown how an original message of arbitrary $N$ bytes is converted into a ciphertext having blocks of $K$ bytes. The ciphertext size is always a multiple of $K$ bytes."
      ]
    },
    {
      "cell_type": "markdown",
      "id": "destroyed-croatia",
      "metadata": {
        "id": "destroyed-croatia"
      },
      "source": [
        "<img src=\"img/block_cipher.png\" style=\"width:1100px\"/>"
      ]
    },
    {
      "cell_type": "markdown",
      "id": "constant-bulletin",
      "metadata": {
        "id": "constant-bulletin"
      },
      "source": [
        "## Padding a message <a class=\"anchor\" id=\"message-padding\"></a>\n",
        "\n",
        "Most of the times the lenght of the message is not a multiple of the block size so we need to \"pad\" the message to have the required length. A common padding function is [PKCS7](https://en.wikipedia.org/wiki/Padding_(cryptography)). Basically what PKCS7 does is appendinng a list of bytes with the same value corresponding to the number of bytes needed to complete the block.\n",
        "\n",
        "\n"
      ]
    },
    {
      "cell_type": "code",
      "source": [
        "#Padding Using PKCS7\n",
        "def pkcs7padding(input, block_size=16):\n",
        "  if (type(input) != bytearray and type(input) != bytes):\n",
        "    raise TypeError(\"Only support byte array\")\n",
        "    \n",
        "  padding = block_size - (len(input) % block_size)\n",
        "  return input + bytearray([padding for i in range(padding)])\n",
        "\n",
        "def pkcs5padding(input):\n",
        "    return pkcs7padding(input, 8)"
      ],
      "metadata": {
        "id": "5F2THMj193-X"
      },
      "id": "5F2THMj193-X",
      "execution_count": 1,
      "outputs": []
    },
    {
      "cell_type": "markdown",
      "id": "organized-moment",
      "metadata": {
        "id": "organized-moment"
      },
      "source": [
        "## Encrypting using AES (Advanced Encryption Standard) <a class=\"anchor\" id=\"AES\"></a>\n",
        "\n",
        "AES is a block cipher that was established as a standard by NIST in 2001 (after a public call to improve/substitute DES encryption algorithm in 1997). AES is a subset of the Rijndael block cipher developed by Vincent Rijmen and Joan Daemen submitted to NIST during the [AES selection process](https://en.wikipedia.org/wiki/Advanced_Encryption_Standard_process).\n",
        "\n",
        "\n",
        "We are not going to go into the details of te exact implementation but the readers are referred to the book of [Katz and Lindell](http://www.cs.umd.edu/~jkatz/imc.html) Chapter 6 section 2. Also Mike Pound explains AES in this [video](https://www.youtube.com/watch?v=O4xNJsjtN6E&t=524s&ab_channel=Computerphile), check it out!"
      ]
    },
    {
      "cell_type": "code",
      "source": [
        "#Importing and installing libraries\n",
        "!pip install pycryptodomex\n",
        "from Cryptodome.Cipher import AES\n",
        "\n",
        "#Creating a private key and encrypting text using AES\n",
        "PrivateKey = b'raneemahmed12345'\n",
        "cipher = AES.new(PrivateKey, AES.MODE_EAX)\n",
        "Text_to_be_encrypted = b'City under siege'\n",
        "nonce = cipher.nonce\n",
        "cipheredText, tag = cipher.encrypt_and_digest(Text_to_be_encrypted)\n",
        "print(\"PlainText is: \",Text_to_be_encrypted ,\"Ciphertext is: \", cipheredText)"
      ],
      "metadata": {
        "colab": {
          "base_uri": "https://localhost:8080/"
        },
        "id": "S4mZj4Gj95ZV",
        "outputId": "a89cd822-c161-43bb-e0c7-d98872a4d7f5"
      },
      "id": "S4mZj4Gj95ZV",
      "execution_count": 2,
      "outputs": [
        {
          "output_type": "stream",
          "name": "stdout",
          "text": [
            "Looking in indexes: https://pypi.org/simple, https://us-python.pkg.dev/colab-wheels/public/simple/\n",
            "Requirement already satisfied: pycryptodomex in /usr/local/lib/python3.7/dist-packages (3.15.0)\n",
            "PlainText is:  b'City under siege' Ciphertext is:  b'<\\x9d}\\x96\\xecUDD\\x1cgl\\xa0\\x9b\\x83\\xb5\\xbb'\n"
          ]
        }
      ]
    },
    {
      "cell_type": "markdown",
      "id": "weird-filename",
      "metadata": {
        "id": "weird-filename"
      },
      "source": [
        "## Modes of operation of block ciphers <a class=\"anchor\" id=\"mode\"></a>\n",
        "\n",
        "A block cipher by itself is only suitable for the secure cryptographic transformation (encryption or decryption) of one fixed-length group of bits called a block. A mode of operation describes how to repeatedly apply a cipher's single-block operation to securely transform amounts of data larger than a block ([Wikipedia](https://en.wikipedia.org/wiki/Block_cipher_mode_of_operation)).\n",
        "\n",
        "The first mode is \"not doing anything\", this is the Electronic Codebook mode. See the figure below (from Wikipedia)."
      ]
    },
    {
      "cell_type": "markdown",
      "id": "capable-command",
      "metadata": {
        "id": "capable-command"
      },
      "source": [
        "<img src=\"img/ECB_mode.png\" style=\"width:1100px\"/>"
      ]
    },
    {
      "cell_type": "markdown",
      "id": "critical-cinema",
      "metadata": {
        "id": "critical-cinema"
      },
      "source": [
        "We are lucky and in ```cryptography``` package ECB implemented in ```cryptography.hazmat.primitives.ciphers.ECB``` function (we've seen in the previous example!)."
      ]
    },
    {
      "cell_type": "markdown",
      "id": "surprised-aspect",
      "metadata": {
        "id": "surprised-aspect"
      },
      "source": [
        "Now we can encrypt the same message twice and see what we get in the ciphertext:"
      ]
    },
    {
      "cell_type": "markdown",
      "id": "bronze-column",
      "metadata": {
        "id": "bronze-column"
      },
      "source": [
        "This is not a desirable outcome. If I want to send the same message twice, I really don't want to send the same ciphertext. What if in all comunications I start by \"Dear...\" and the attacker knows it?. A better mode is the Cipher block chaining (CBC):"
      ]
    },
    {
      "cell_type": "markdown",
      "id": "sonic-ranking",
      "metadata": {
        "id": "sonic-ranking"
      },
      "source": [
        "<img src=\"img/CBC_mode.png\" style=\"width:1100px\"/>"
      ]
    },
    {
      "cell_type": "markdown",
      "id": "meaningful-preview",
      "metadata": {
        "id": "meaningful-preview"
      },
      "source": [
        "In this case we take a random initialization vector and perform XOR operation with the block of plaintext, then we feed this into the encryptor, after that we obtain the ciphertext. This ciphertext is used as the initialization vector to encrypt the next block."
      ]
    },
    {
      "cell_type": "markdown",
      "source": [
        "# **Electronic Codebook encryption (ECB) :**"
      ],
      "metadata": {
        "id": "yQufmB3nAmy5"
      },
      "id": "yQufmB3nAmy5"
    },
    {
      "cell_type": "code",
      "source": [
        "#Installing and importing libraries\n",
        "!pip install pycryptodomex\n",
        "from base64 import b64encode\n",
        "from Cryptodome.Cipher import AES\n",
        "from Cryptodome.Random import get_random_bytes\n",
        "\n",
        "#Encryption using ECB\n",
        "Text_to_be_encrypted = b\"Encrypting w ECB\"\n",
        "PrivateKey = get_random_bytes(16)\n",
        "\n",
        "cipher = AES.new(PrivateKey, AES.MODE_ECB)\n",
        "cipheredText = cipher.encrypt(Text_to_be_encrypted)\n",
        "\n",
        "print('Plain Text:',Text_to_be_encrypted, ' Cipher text:',cipheredText)"
      ],
      "metadata": {
        "colab": {
          "base_uri": "https://localhost:8080/"
        },
        "id": "MIgXeP9EAuC8",
        "outputId": "aecd8236-cb36-4617-ad30-a9be07a0f2c0"
      },
      "id": "MIgXeP9EAuC8",
      "execution_count": 5,
      "outputs": [
        {
          "output_type": "stream",
          "name": "stdout",
          "text": [
            "Looking in indexes: https://pypi.org/simple, https://us-python.pkg.dev/colab-wheels/public/simple/\n",
            "Requirement already satisfied: pycryptodomex in /usr/local/lib/python3.7/dist-packages (3.15.0)\n",
            "Plain Text: b'Encrypting w ECB'  Cipher text: b'\\xc2\\xf6=/\\xf0\\xee\\x0b\\x1b\\xb8\\x1aF\\xa5\\x0e!|\\\\'\n"
          ]
        }
      ]
    },
    {
      "cell_type": "markdown",
      "source": [
        "# **Cipher Block chaining encryption (CBC):**"
      ],
      "metadata": {
        "id": "-ku39CXvAufP"
      },
      "id": "-ku39CXvAufP"
    },
    {
      "cell_type": "code",
      "source": [
        "#Installing and importing packages and libraries\n",
        "!pip install pycryptodomex\n",
        "from base64 import b64encode\n",
        "from Cryptodome.Cipher import AES\n",
        "from Cryptodome.Util.Padding import pad\n",
        "from Cryptodome.Random import get_random_bytes\n",
        "\n",
        "#Encryption Using CBC\n",
        "Text_to_be_encrypted = b\"Encrypting w cbc\"\n",
        "PrivateKey = get_random_bytes(16)\n",
        "\n",
        "cipher = AES.new(PrivateKey, AES.MODE_CBC)\n",
        "cipher_bytes = cipher.encrypt(pad(Text_to_be_encrypted, AES.block_size))\n",
        "\n",
        "iv = b64encode(cipher.iv).decode('utf-8')\n",
        "cipheredText = b64encode(cipher_bytes).decode('utf-8')\n",
        "\n",
        "print('Plain Text',Text_to_be_encrypted,' IV:',iv, ' Cipher text:',cipheredText)"
      ],
      "metadata": {
        "colab": {
          "base_uri": "https://localhost:8080/"
        },
        "id": "mIU64hPvA6up",
        "outputId": "e6e59d96-81ce-45da-d675-73471ff15d4d"
      },
      "id": "mIU64hPvA6up",
      "execution_count": 4,
      "outputs": [
        {
          "output_type": "stream",
          "name": "stdout",
          "text": [
            "Looking in indexes: https://pypi.org/simple, https://us-python.pkg.dev/colab-wheels/public/simple/\n",
            "Requirement already satisfied: pycryptodomex in /usr/local/lib/python3.7/dist-packages (3.15.0)\n",
            "Plain Text b'Encrypting w cbc'  IV: e3ckFhHea8bkOHJCzFiZHA==  Cipher text: kxrj5MatfWOxoIJKrrYj/WjOFbHgU3yXLn7CHrPYguA=\n"
          ]
        }
      ]
    },
    {
      "cell_type": "markdown",
      "id": "cutting-demographic",
      "metadata": {
        "id": "cutting-demographic"
      },
      "source": [
        "## Size of ciphertext <a class=\"anchor\" id=\"size\"></a>"
      ]
    },
    {
      "cell_type": "markdown",
      "id": "polish-parts",
      "metadata": {
        "id": "polish-parts"
      },
      "source": [
        "## Bonus: Fernet <a class=\"anchor\" id=\"fernet\"></a>\n",
        "\n",
        "Another block cipher implemented in cryptography package is [Fernet](https://asecuritysite.com/encryption/fernet). "
      ]
    },
    {
      "cell_type": "code",
      "execution_count": 4,
      "id": "raised-steps",
      "metadata": {
        "id": "raised-steps"
      },
      "outputs": [],
      "source": []
    }
  ],
  "metadata": {
    "kernelspec": {
      "display_name": "Python 3 (ipykernel)",
      "language": "python",
      "name": "python3"
    },
    "language_info": {
      "codemirror_mode": {
        "name": "ipython",
        "version": 3
      },
      "file_extension": ".py",
      "mimetype": "text/x-python",
      "name": "python",
      "nbconvert_exporter": "python",
      "pygments_lexer": "ipython3",
      "version": "3.9.13"
    },
    "colab": {
      "provenance": []
    }
  },
  "nbformat": 4,
  "nbformat_minor": 5
}